{
 "cells": [
  {
   "cell_type": "markdown",
   "metadata": {},
   "source": [
    "## Imbalanced Dataset Handling using under & over sampling techniques:\n",
    "For imbalanced datasets Accuracy measurement gives false results, due to biased towards majority class.\n",
    "There are 2 ways to treat imbalanced datasets\n",
    "1. Under sampling\n",
    "   i.   Random Under Sampling\n",
    "   ii.  TomekLinks Sampling\n",
    "   iii. Cluster Centroid Sampling\n",
    "2. Over sampling\n",
    "   i.   Random Over Sampling\n",
    "   ii.  SMOTE - Sysnthetic Minority Over sampling technique"
   ]
  },
  {
   "cell_type": "code",
   "execution_count": 137,
   "metadata": {},
   "outputs": [
    {
     "data": {
      "image/png": "[encoded data removed]",
      "text/plain": [
       "<Figure size 432x288 with 1 Axes>"
      ]
     },
     "metadata": {
      "needs_background": "light"
     },
     "output_type": "display_data"
    },
    {
     "name": "stdout",
     "output_type": "stream",
     "text": [
      "(100, 4)\n",
      "(100,)\n",
      "          0         1         2         3  target\n",
      "0  1.815282 -1.356527 -0.684868  1.144160       0\n",
      "1  1.616326 -1.947283  0.053980  0.949082       0\n",
      "2  2.834230 -2.985269 -0.848607  1.449599       0\n",
      "3  2.063402 -0.351138 -1.860466  1.406814       0\n",
      "4  1.254410 -0.568141 -0.454025  0.985794       0\n"
     ]
    }
   ],
   "source": [
    "import pandas as pd\n",
    "import numpy as np\n",
    "from matplotlib import pyplot as plt\n",
    "from sklearn.datasets import make_classification\n",
    "\n",
    "#Making imbalanced dataset using make_Classification\n",
    "x, y = make_classification(\n",
    "    n_classes=2, class_sep=1.5, weights=[0.9, 0.1],\n",
    "    n_informative=3, n_redundant=1, flip_y=0,\n",
    "    n_features=4, n_clusters_per_class=1,\n",
    "    n_samples=100, random_state=10\n",
    ")\n",
    "\n",
    "df = pd.DataFrame(x)\n",
    "df['target'] = y\n",
    "df.target.value_counts().plot(kind='bar', title='Count (target)')\n",
    "plt.show()\n",
    "print(x.shape)\n",
    "print(y.shape)\n",
    "print(df.head())"
   ]
  },
  {
   "cell_type": "code",
   "execution_count": 138,
   "metadata": {},
   "outputs": [
    {
     "data": {
      "text/plain": [
       "0    90\n",
       "1    10\n",
       "Name: target, dtype: int64"
      ]
     },
     "execution_count": 138,
     "metadata": {},
     "output_type": "execute_result"
    }
   ],
   "source": [
    "df['target'].value_counts()"
   ]
  },
  {
   "cell_type": "markdown",
   "metadata": {},
   "source": [
    "## RandomUnderSampler: \n",
    "Random Under Sampling is technique to convert imbalanced dataset into to balanced dataset by removing majority class datapoints."
   ]
  },
  {
   "cell_type": "code",
   "execution_count": 139,
   "metadata": {},
   "outputs": [
    {
     "name": "stdout",
     "output_type": "stream",
     "text": [
      "(20,)\n",
      "[0 0 0 0 0 0 0 0 0 0 1 1 1 1 1 1 1 1 1 1]\n",
      "1    10\n",
      "0    10\n",
      "Name: target, dtype: int64\n"
     ]
    },
    {
     "data": {
      "image/png": "[encoded data removed]",
      "text/plain": [
       "<Figure size 432x288 with 1 Axes>"
      ]
     },
     "metadata": {
      "needs_background": "light"
     },
     "output_type": "display_data"
    }
   ],
   "source": [
    "from imblearn.under_sampling import RandomUnderSampler\n",
    "rus=RandomUnderSampler(return_indices=True)\n",
    "xrus,yrus,ids=rus.fit_sample(x,y)\n",
    "print(yrus.shape)\n",
    "print(yrus)\n",
    "df1=pd.DataFrame(xrus)\n",
    "df1['target']=yrus\n",
    "print(df1['target'].value_counts())\n",
    "df1['target'].value_counts().plot(kind='bar')\n",
    "plt.show()"
   ]
  },
  {
   "cell_type": "markdown",
   "metadata": {},
   "source": [
    "## TomekLinks: \n",
    "TomekLinks is a under sampling technique to conver imbalanced dataset into to balanced dataset by removing majority class datapoints based on TomekLinks.\n",
    "Tomek links are pairs of very close instances, but of opposite classes."
   ]
  },
  {
   "cell_type": "code",
   "execution_count": 140,
   "metadata": {
    "scrolled": true
   },
   "outputs": [
    {
     "name": "stdout",
     "output_type": "stream",
     "text": [
      "(100, 4)\n",
      "(100,)\n",
      "0    90\n",
      "1    10\n",
      "Name: target, dtype: int64\n"
     ]
    },
    {
     "data": {
      "image/png": "[encoded data removed]",
      "text/plain": [
       "<Figure size 432x288 with 1 Axes>"
      ]
     },
     "metadata": {
      "needs_background": "light"
     },
     "output_type": "display_data"
    }
   ],
   "source": [
    "from imblearn.under_sampling import TomekLinks\n",
    "Tomek=TomekLinks(ratio='majority')\n",
    "xtmk,ytmk=Tomek.fit_sample(x,y)\n",
    "print(xtmk.shape)\n",
    "print(ytmk.shape)\n",
    "df2=pd.DataFrame(xtmk)\n",
    "df2['target']=ytmk\n",
    "print(df2['target'].value_counts())\n",
    "df2['target'].value_counts().plot(kind='bar')\n",
    "plt.show()"
   ]
  },
  {
   "cell_type": "markdown",
   "metadata": {},
   "source": [
    "## Cluster Centroids: \n",
    "ClusterCentroids is a under sampling technique to conver imbalanced dataset into to balanced dataset by removing majority class datapoints based on cluster centroids generated using cl;ustering."
   ]
  },
  {
   "cell_type": "code",
   "execution_count": 141,
   "metadata": {},
   "outputs": [
    {
     "name": "stdout",
     "output_type": "stream",
     "text": [
      "(20, 4)\n",
      "(20,)\n",
      "1    10\n",
      "0    10\n",
      "Name: target, dtype: int64\n"
     ]
    },
    {
     "data": {
      "image/png": "[encoded data removed]",
      "text/plain": [
       "<Figure size 432x288 with 1 Axes>"
      ]
     },
     "metadata": {
      "needs_background": "light"
     },
     "output_type": "display_data"
    }
   ],
   "source": [
    "from imblearn.under_sampling import ClusterCentroids\n",
    "CC=ClusterCentroids(ratio={0:10})\n",
    "xCC,yCC=CC.fit_sample(x,y)\n",
    "print(xCC.shape)\n",
    "print(yCC.shape)\n",
    "df3=pd.DataFrame(xCC)\n",
    "df3['target']=yCC\n",
    "print(df3['target'].value_counts())\n",
    "df1['target'].value_counts().plot(kind='bar')\n",
    "plt.show()\n"
   ]
  },
  {
   "cell_type": "markdown",
   "metadata": {},
   "source": [
    "## RandomOvererSampler: \n",
    "Random Oveer Sampling is technique to convert imbalanced dataset into to balanced dataset by adding random minority class datapoints."
   ]
  },
  {
   "cell_type": "code",
   "execution_count": 142,
   "metadata": {},
   "outputs": [
    {
     "name": "stdout",
     "output_type": "stream",
     "text": [
      "(180, 4)\n",
      "(180,)\n",
      "1    90\n",
      "0    90\n",
      "Name: target, dtype: int64\n"
     ]
    },
    {
     "data": {
      "image/png": "[encoded data removed]",
      "text/plain": [
       "<Figure size 432x288 with 1 Axes>"
      ]
     },
     "metadata": {
      "needs_background": "light"
     },
     "output_type": "display_data"
    }
   ],
   "source": [
    "from imblearn.over_sampling import RandomOverSampler\n",
    "ros=RandomOverSampler()\n",
    "xros,yros=ros.fit_sample(x,y)\n",
    "print(xros.shape)\n",
    "print(yros.shape)\n",
    "df4=pd.DataFrame(xros)\n",
    "df4['target']=yros\n",
    "print(df4['target'].value_counts())\n",
    "df4['target'].value_counts().plot(kind='bar')\n",
    "plt.show()"
   ]
  },
  {
   "cell_type": "markdown",
   "metadata": {},
   "source": [
    "## SMOTE: \n",
    "SMOTE is technique used to convert imbalanced dataset into to balanced dataset using synthetic technique.\n",
    "SMOTE (Synthetic Minority Oversampling TEchnique) consists of synthesizing elements for the minority class, based on those that already exist. It works randomly picking a point from the minority class and computing the k-nearest neighbors for this point. The synthetic points are added between the chosen point and its neighbors."
   ]
  },
  {
   "cell_type": "code",
   "execution_count": 143,
   "metadata": {},
   "outputs": [
    {
     "name": "stdout",
     "output_type": "stream",
     "text": [
      "(180, 4)\n",
      "(180,)\n",
      "1    90\n",
      "0    90\n",
      "Name: target, dtype: int64\n"
     ]
    },
    {
     "data": {
      "image/png": "[encoded data removed]",
      "text/plain": [
       "<Figure size 432x288 with 1 Axes>"
      ]
     },
     "metadata": {
      "needs_background": "light"
     },
     "output_type": "display_data"
    }
   ],
   "source": [
    "from imblearn.over_sampling import SMOTE\n",
    "smte=SMOTE(ratio='minority')\n",
    "xsmte,ysmte=smte.fit_sample(x,y)\n",
    "print(xsmte.shape)\n",
    "print(ysmte.shape)\n",
    "df5=pd.DataFrame(xsmte)\n",
    "df5['target']=ysmte\n",
    "print(df5['target'].value_counts())\n",
    "df5['target'].value_counts().plot(kind='bar')\n",
    "plt.show()"
   ]
  }
 ],
 "metadata": {
  "kernelspec": {
   "display_name": "Python 3",
   "language": "python",
   "name": "python3"
  },
  "language_info": {
   "codemirror_mode": {
    "name": "ipython",
    "version": 3
   },
   "file_extension": ".py",
   "mimetype": "text/x-python",
   "name": "python",
   "nbconvert_exporter": "python",
   "pygments_lexer": "ipython3",
   "version": "3.7.1"
  }
 },
 "nbformat": 4,
 "nbformat_minor": 2
}
